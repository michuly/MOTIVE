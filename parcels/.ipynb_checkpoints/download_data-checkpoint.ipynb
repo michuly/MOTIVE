{
 "cells": [
  {
   "cell_type": "code",
   "execution_count": 1,
   "id": "25d947f1-323d-4866-86bf-7abb9d4760b5",
   "metadata": {},
   "outputs": [],
   "source": [
    "import copernicusmarine"
   ]
  },
  {
   "cell_type": "code",
   "execution_count": 4,
   "id": "75eacade-e1ef-4160-9f10-313114514ba0",
   "metadata": {},
   "outputs": [],
   "source": [
    "def download_copern(typ, variables, lonw=-145, lone=-135, lats=0, latn=6, sdate=\"2022-09-11T00:00:00\", edate=\"2022-09-27T00:00:00\",\n",
    "                   minz=0.49402499198913574, maxz=763.33):\n",
    "    ### this function downloads copernicus data \n",
    "    ### it expects the following variables: typ = [\"cur\", \"theta\"], variables=[\"uo\", \"vo\"] or [\"theta\"], the others are \n",
    "    ### selfexplanatory\n",
    "    copernicusmarine.subset(                                                                                                  \n",
    "    dataset_id=\"cmems_mod_glo_phy-\" + typ + \"_anfc_0.083deg_PT6H-i\",                                                             \n",
    "    variables=variables,                                                                                                   \n",
    "    minimum_longitude=lonw,                                                                                                 \n",
    "    maximum_longitude=lone,                                                                                                 \n",
    "    minimum_latitude=lats,                                                                                                     \n",
    "    maximum_latitude=latn,                                                                                                     \n",
    "    start_datetime=sdate,                                                                                   \n",
    "    end_datetime=edate,                                                                                     \n",
    "    minimum_depth=minz,                                                                                      \n",
    "    maximum_depth=maxz,                                                                                      \n",
    "    )   "
   ]
  },
  {
   "cell_type": "markdown",
   "id": "ab5d38d4-ec83-4bf9-bef8-03161556872d",
   "metadata": {},
   "source": [
    "## To download\n",
    "- [x] 2022 09 11 currents\n",
    "- [x] 2022 09 11 theta\n",
    "- [ ] 2022 10 07 currents\n",
    "- [ ] 2022 10 07 theta\n",
    "- [ ] 2022 11 07 currents\n",
    "- [ ] 2022 11 07 theta"
   ]
  },
  {
   "cell_type": "code",
   "execution_count": 7,
   "id": "68140f5d-ab33-4221-9a54-b2d344e48136",
   "metadata": {},
   "outputs": [
    {
     "name": "stdout",
     "output_type": "stream",
     "text": [
      "username:"
     ]
    },
    {
     "name": "stdin",
     "output_type": "stream",
     "text": [
      "  adeppenmeier1\n"
     ]
    },
    {
     "name": "stdout",
     "output_type": "stream",
     "text": [
      "password:"
     ]
    },
    {
     "name": "stdin",
     "output_type": "stream",
     "text": [
      "  ········\n"
     ]
    },
    {
     "name": "stderr",
     "output_type": "stream",
     "text": [
      "INFO - 2024-11-10T04:31:09Z - Dataset version was not specified, the latest one was selected: \"202406\"\n",
      "INFO - 2024-11-10T04:31:09Z - Dataset part was not specified, the first one was selected: \"default\"\n",
      "INFO - 2024-11-10T04:31:18Z - Service was not specified, the default one was selected: \"arco-time-series\"\n",
      "INFO - 2024-11-10T04:31:26Z - Downloading using service arco-time-series...\n",
      "INFO - 2024-11-10T04:31:36Z - <xarray.Dataset> Size: 152MB\n",
      "Dimensions:    (depth: 33, latitude: 73, longitude: 121, time: 65)\n",
      "Coordinates:\n",
      "  * depth      (depth) float32 132B 0.494 1.541 2.646 ... 453.9 541.1 643.6\n",
      "  * latitude   (latitude) float32 292B 0.0 0.08334 0.1667 ... 5.833 5.917 6.0\n",
      "  * longitude  (longitude) float32 484B -145.0 -144.9 -144.8 ... -135.1 -135.0\n",
      "  * time       (time) datetime64[ns] 520B 2022-09-11 ... 2022-09-27\n",
      "Data variables:\n",
      "    uo         (time, depth, latitude, longitude) float32 76MB dask.array<chunksize=(65, 1, 32, 32), meta=np.ndarray>\n",
      "    vo         (time, depth, latitude, longitude) float32 76MB dask.array<chunksize=(65, 1, 32, 32), meta=np.ndarray>\n",
      "Attributes: (12/14)\n",
      "    Conventions:                   CF-1.6\n",
      "    area:                          GLOBAL\n",
      "    contact:                       servicedesk.cmems@mercator-ocean.eu\n",
      "    credit:                        E.U. Copernicus Marine Service Information...\n",
      "    institution:                   Mercator Ocean\n",
      "    licence:                       http://marine.copernicus.eu/services-portf...\n",
      "    ...                            ...\n",
      "    product_user_manual:           http://marine.copernicus.eu/documents/PUM/...\n",
      "    quality_information_document:  http://marine.copernicus.eu/documents/QUID...\n",
      "    references:                    http://marine.copernicus.eu\n",
      "    source:                        MERCATOR GLO12\n",
      "    title:                         Instantaneous fields for product GLOBAL_AN...\n",
      "    copernicusmarine_version:      1.3.4\n",
      "INFO - 2024-11-10T04:31:36Z - Estimated size of the dataset file is 144.632 MB.\n",
      "Do you want to proceed with download? [Y/n]:"
     ]
    },
    {
     "name": "stdin",
     "output_type": "stream",
     "text": [
      "  Y\n"
     ]
    },
    {
     "name": "stderr",
     "output_type": "stream",
     "text": [
      "INFO - 2024-11-10T04:31:39Z - Writing to local storage. Please wait...\n"
     ]
    },
    {
     "data": {
      "application/vnd.jupyter.widget-view+json": {
       "model_id": "e4c5f4ecf01446cb93246736b3b0527b",
       "version_major": 2,
       "version_minor": 0
      },
      "text/plain": [
       "  0%|          | 0/5744 [00:00<?, ?it/s]"
      ]
     },
     "metadata": {},
     "output_type": "display_data"
    },
    {
     "name": "stderr",
     "output_type": "stream",
     "text": [
      "INFO - 2024-11-10T04:34:24Z - Successfully downloaded to cmems_mod_glo_phy-cur_anfc_0.083deg_PT6H-i_uo-vo_145.00W-135.00W_0.00N-6.00N_0.49-643.57m_2022-09-11-2022-09-27.nc\n"
     ]
    }
   ],
   "source": [
    "download_copern(\"cur\", [\"uo\",\"vo\"])"
   ]
  },
  {
   "cell_type": "code",
   "execution_count": 10,
   "id": "99963d78-be58-45e3-b687-5b36cefbc2fa",
   "metadata": {},
   "outputs": [
    {
     "name": "stdout",
     "output_type": "stream",
     "text": [
      "username:"
     ]
    },
    {
     "name": "stdin",
     "output_type": "stream",
     "text": [
      "  adeppenmeier1\n"
     ]
    },
    {
     "name": "stdout",
     "output_type": "stream",
     "text": [
      "password:"
     ]
    },
    {
     "name": "stdin",
     "output_type": "stream",
     "text": [
      "  ········\n"
     ]
    },
    {
     "name": "stderr",
     "output_type": "stream",
     "text": [
      "INFO - 2024-11-10T04:35:47Z - Dataset version was not specified, the latest one was selected: \"202406\"\n",
      "INFO - 2024-11-10T04:35:47Z - Dataset part was not specified, the first one was selected: \"default\"\n",
      "INFO - 2024-11-10T04:35:54Z - Service was not specified, the default one was selected: \"arco-time-series\"\n",
      "INFO - 2024-11-10T04:36:01Z - Downloading using service arco-time-series...\n",
      "INFO - 2024-11-10T04:36:08Z - <xarray.Dataset> Size: 2MB\n",
      "Dimensions:    (depth: 1, latitude: 73, longitude: 121, time: 65)\n",
      "Coordinates:\n",
      "  * depth      (depth) float32 4B 0.494\n",
      "  * latitude   (latitude) float32 292B 0.0 0.08334 0.1667 ... 5.833 5.917 6.0\n",
      "  * longitude  (longitude) float32 484B -145.0 -144.9 -144.8 ... -135.1 -135.0\n",
      "  * time       (time) datetime64[ns] 520B 2022-09-11 ... 2022-09-27\n",
      "Data variables:\n",
      "    thetao     (time, depth, latitude, longitude) float32 2MB dask.array<chunksize=(65, 1, 32, 32), meta=np.ndarray>\n",
      "Attributes: (12/14)\n",
      "    Conventions:                   CF-1.6\n",
      "    area:                          GLOBAL\n",
      "    contact:                       servicedesk.cmems@mercator-ocean.eu\n",
      "    credit:                        E.U. Copernicus Marine Service Information...\n",
      "    institution:                   Mercator Ocean\n",
      "    licence:                       http://marine.copernicus.eu/services-portf...\n",
      "    ...                            ...\n",
      "    product_user_manual:           http://marine.copernicus.eu/documents/PUM/...\n",
      "    quality_information_document:  http://marine.copernicus.eu/documents/QUID...\n",
      "    references:                    http://marine.copernicus.eu\n",
      "    source:                        MERCATOR GLO12\n",
      "    title:                         Instantaneous fields for product GLOBAL_AN...\n",
      "    copernicusmarine_version:      1.3.4\n",
      "INFO - 2024-11-10T04:36:08Z - Estimated size of the dataset file is 2.191 MB.\n",
      "Do you want to proceed with download? [Y/n]:"
     ]
    },
    {
     "name": "stdin",
     "output_type": "stream",
     "text": [
      "  \n"
     ]
    },
    {
     "name": "stderr",
     "output_type": "stream",
     "text": [
      "INFO - 2024-11-10T04:36:51Z - Writing to local storage. Please wait...\n"
     ]
    },
    {
     "data": {
      "application/vnd.jupyter.widget-view+json": {
       "model_id": "9a2c48aafba84d70894d89969ec6cbbc",
       "version_major": 2,
       "version_minor": 0
      },
      "text/plain": [
       "  0%|          | 0/89 [00:00<?, ?it/s]"
      ]
     },
     "metadata": {},
     "output_type": "display_data"
    },
    {
     "name": "stderr",
     "output_type": "stream",
     "text": [
      "INFO - 2024-11-10T04:37:00Z - Successfully downloaded to cmems_mod_glo_phy-thetao_anfc_0.083deg_PT6H-i_thetao_145.00W-135.00W_0.00N-6.00N_0.49m_2022-09-11-2022-09-27_(1).nc\n"
     ]
    }
   ],
   "source": [
    "download_copern(\"thetao\", [\"thetao\"], maxz=0.49402499198913574)"
   ]
  },
  {
   "cell_type": "code",
   "execution_count": 12,
   "id": "fb20188c-1ad1-49b1-9162-d02253e16797",
   "metadata": {},
   "outputs": [
    {
     "name": "stdout",
     "output_type": "stream",
     "text": [
      "username:"
     ]
    },
    {
     "name": "stdin",
     "output_type": "stream",
     "text": [
      "  adeppenmeier1\n"
     ]
    },
    {
     "name": "stdout",
     "output_type": "stream",
     "text": [
      "password:"
     ]
    },
    {
     "name": "stdin",
     "output_type": "stream",
     "text": [
      "  ········\n"
     ]
    },
    {
     "name": "stderr",
     "output_type": "stream",
     "text": [
      "INFO - 2024-11-10T04:49:04Z - Dataset version was not specified, the latest one was selected: \"202406\"\n",
      "INFO - 2024-11-10T04:49:04Z - Dataset part was not specified, the first one was selected: \"default\"\n",
      "INFO - 2024-11-10T04:49:11Z - Service was not specified, the default one was selected: \"arco-time-series\"\n",
      "INFO - 2024-11-10T04:49:17Z - Downloading using service arco-time-series...\n",
      "INFO - 2024-11-10T04:49:25Z - <xarray.Dataset> Size: 152MB\n",
      "Dimensions:    (depth: 33, latitude: 73, longitude: 121, time: 65)\n",
      "Coordinates:\n",
      "  * depth      (depth) float32 132B 0.494 1.541 2.646 ... 453.9 541.1 643.6\n",
      "  * latitude   (latitude) float32 292B 0.0 0.08334 0.1667 ... 5.833 5.917 6.0\n",
      "  * longitude  (longitude) float32 484B -145.0 -144.9 -144.8 ... -135.1 -135.0\n",
      "  * time       (time) datetime64[ns] 520B 2022-10-11 ... 2022-10-27\n",
      "Data variables:\n",
      "    uo         (time, depth, latitude, longitude) float32 76MB dask.array<chunksize=(65, 1, 32, 32), meta=np.ndarray>\n",
      "    vo         (time, depth, latitude, longitude) float32 76MB dask.array<chunksize=(65, 1, 32, 32), meta=np.ndarray>\n",
      "Attributes: (12/14)\n",
      "    Conventions:                   CF-1.6\n",
      "    area:                          GLOBAL\n",
      "    contact:                       servicedesk.cmems@mercator-ocean.eu\n",
      "    credit:                        E.U. Copernicus Marine Service Information...\n",
      "    institution:                   Mercator Ocean\n",
      "    licence:                       http://marine.copernicus.eu/services-portf...\n",
      "    ...                            ...\n",
      "    product_user_manual:           http://marine.copernicus.eu/documents/PUM/...\n",
      "    quality_information_document:  http://marine.copernicus.eu/documents/QUID...\n",
      "    references:                    http://marine.copernicus.eu\n",
      "    source:                        MERCATOR GLO12\n",
      "    title:                         Instantaneous fields for product GLOBAL_AN...\n",
      "    copernicusmarine_version:      1.3.4\n",
      "INFO - 2024-11-10T04:49:25Z - Estimated size of the dataset file is 144.632 MB.\n",
      "Do you want to proceed with download? [Y/n]:"
     ]
    },
    {
     "name": "stdin",
     "output_type": "stream",
     "text": [
      "  \n"
     ]
    },
    {
     "name": "stderr",
     "output_type": "stream",
     "text": [
      "INFO - 2024-11-10T04:49:27Z - Writing to local storage. Please wait...\n"
     ]
    },
    {
     "data": {
      "application/vnd.jupyter.widget-view+json": {
       "model_id": "ea22b95bc1de4297bb8b765957a6eb0e",
       "version_major": 2,
       "version_minor": 0
      },
      "text/plain": [
       "  0%|          | 0/5744 [00:00<?, ?it/s]"
      ]
     },
     "metadata": {},
     "output_type": "display_data"
    },
    {
     "name": "stderr",
     "output_type": "stream",
     "text": [
      "INFO - 2024-11-10T04:51:37Z - Successfully downloaded to cmems_mod_glo_phy-cur_anfc_0.083deg_PT6H-i_uo-vo_145.00W-135.00W_0.00N-6.00N_0.49-643.57m_2022-10-11-2022-10-27.nc\n"
     ]
    }
   ],
   "source": [
    "download_copern(\"cur\", [\"uo\",\"vo\"], sdate=\"2022-10-11T00:00:00\", edate=\"2022-10-27T00:00:00\")"
   ]
  },
  {
   "cell_type": "code",
   "execution_count": 13,
   "id": "1d2cf05f-be11-4661-b5be-63f033e4b66e",
   "metadata": {},
   "outputs": [
    {
     "name": "stdout",
     "output_type": "stream",
     "text": [
      "username:"
     ]
    },
    {
     "name": "stdin",
     "output_type": "stream",
     "text": [
      "  adeppenmeier1\n"
     ]
    },
    {
     "name": "stdout",
     "output_type": "stream",
     "text": [
      "password:"
     ]
    },
    {
     "name": "stdin",
     "output_type": "stream",
     "text": [
      "  ········\n"
     ]
    },
    {
     "name": "stderr",
     "output_type": "stream",
     "text": [
      "INFO - 2024-11-10T04:52:13Z - Dataset version was not specified, the latest one was selected: \"202406\"\n",
      "INFO - 2024-11-10T04:52:13Z - Dataset part was not specified, the first one was selected: \"default\"\n",
      "INFO - 2024-11-10T04:52:20Z - Service was not specified, the default one was selected: \"arco-time-series\"\n",
      "INFO - 2024-11-10T04:52:27Z - Downloading using service arco-time-series...\n",
      "INFO - 2024-11-10T04:52:35Z - <xarray.Dataset> Size: 2MB\n",
      "Dimensions:    (depth: 1, latitude: 73, longitude: 121, time: 65)\n",
      "Coordinates:\n",
      "  * depth      (depth) float32 4B 0.494\n",
      "  * latitude   (latitude) float32 292B 0.0 0.08334 0.1667 ... 5.833 5.917 6.0\n",
      "  * longitude  (longitude) float32 484B -145.0 -144.9 -144.8 ... -135.1 -135.0\n",
      "  * time       (time) datetime64[ns] 520B 2022-10-11 ... 2022-10-27\n",
      "Data variables:\n",
      "    thetao     (time, depth, latitude, longitude) float32 2MB dask.array<chunksize=(65, 1, 32, 32), meta=np.ndarray>\n",
      "Attributes: (12/14)\n",
      "    Conventions:                   CF-1.6\n",
      "    area:                          GLOBAL\n",
      "    contact:                       servicedesk.cmems@mercator-ocean.eu\n",
      "    credit:                        E.U. Copernicus Marine Service Information...\n",
      "    institution:                   Mercator Ocean\n",
      "    licence:                       http://marine.copernicus.eu/services-portf...\n",
      "    ...                            ...\n",
      "    product_user_manual:           http://marine.copernicus.eu/documents/PUM/...\n",
      "    quality_information_document:  http://marine.copernicus.eu/documents/QUID...\n",
      "    references:                    http://marine.copernicus.eu\n",
      "    source:                        MERCATOR GLO12\n",
      "    title:                         Instantaneous fields for product GLOBAL_AN...\n",
      "    copernicusmarine_version:      1.3.4\n",
      "INFO - 2024-11-10T04:52:35Z - Estimated size of the dataset file is 2.191 MB.\n",
      "Do you want to proceed with download? [Y/n]:"
     ]
    },
    {
     "name": "stdin",
     "output_type": "stream",
     "text": [
      "  \n"
     ]
    },
    {
     "name": "stderr",
     "output_type": "stream",
     "text": [
      "INFO - 2024-11-10T04:52:46Z - Writing to local storage. Please wait...\n"
     ]
    },
    {
     "data": {
      "application/vnd.jupyter.widget-view+json": {
       "model_id": "4e928e6d0ada46e1841b3903a841a521",
       "version_major": 2,
       "version_minor": 0
      },
      "text/plain": [
       "  0%|          | 0/89 [00:00<?, ?it/s]"
      ]
     },
     "metadata": {},
     "output_type": "display_data"
    },
    {
     "name": "stderr",
     "output_type": "stream",
     "text": [
      "INFO - 2024-11-10T04:52:59Z - Successfully downloaded to cmems_mod_glo_phy-thetao_anfc_0.083deg_PT6H-i_thetao_145.00W-135.00W_0.00N-6.00N_0.49m_2022-10-11-2022-10-27.nc\n"
     ]
    }
   ],
   "source": [
    "download_copern(\"thetao\", [\"thetao\"], maxz=0.49402499198913574, sdate=\"2022-10-11T00:00:00\", edate=\"2022-10-27T00:00:00\")"
   ]
  },
  {
   "cell_type": "code",
   "execution_count": null,
   "id": "0eae7c8f-037c-46e5-9a41-55723e542c98",
   "metadata": {},
   "outputs": [],
   "source": []
  }
 ],
 "metadata": {
  "kernelspec": {
   "display_name": "Python 3 (ipykernel)",
   "language": "python",
   "name": "python3"
  },
  "language_info": {
   "codemirror_mode": {
    "name": "ipython",
    "version": 3
   },
   "file_extension": ".py",
   "mimetype": "text/x-python",
   "name": "python",
   "nbconvert_exporter": "python",
   "pygments_lexer": "ipython3",
   "version": "3.7.12"
  }
 },
 "nbformat": 4,
 "nbformat_minor": 5
}
