{
 "cells": [
  {
   "cell_type": "markdown",
   "id": "28330cf0",
   "metadata": {},
   "source": [
    "### Virtual Wirewalkers"
   ]
  },
  {
   "cell_type": "code",
   "execution_count": 2,
   "id": "06d444f9-e60d-440b-abe7-5f5ba801cb98",
   "metadata": {},
   "outputs": [],
   "source": [
    "from parcels import FieldSet, ParticleSet, Variable, JITParticle, AdvectionRK4\n",
    "import numpy as np\n",
    "import math\n",
    "from datetime import timedelta\n",
    "from operator import attrgetter\n",
    "\n",
    "\n",
    "fieldset = FieldSet.from_parcels('/Users/caiquediasluko/Documents/Caique/MOTIVE/Wirewalker_Forecast/Glorystraj2_0-760m_')\n",
    "\n",
    "dist = 0.04  #Spacing between WWs\n",
    "a = dist/2\n",
    "lon1=-138 #Westernmost point\n",
    "lat1=3.5      #Southernmost point\n",
    "\n",
    "LO4 = np.array([lon1,lon1+2*a,lon1+a])\n",
    "LA4 = np.array([lat1,lat1,lat1+np.sqrt(3)*a])\n",
    "\n",
    "\n",
    "dist = 0.04  #Spacing between WWs\n",
    "a = dist/2\n",
    "lon1=-138 #Westernmost point\n",
    "lat1=3      #Southernmost point\n",
    "\n",
    "LO3 = np.array([lon1,lon1+2*a,lon1+a])\n",
    "LA3 = np.array([lat1,lat1,lat1+np.sqrt(3)*a])\n",
    "\n",
    "dist = 0.04  #Spacing between WWs\n",
    "a = dist/2\n",
    "lon1=-138 #Westernmost point\n",
    "lat1=2.5      #Southernmost point\n",
    "\n",
    "LO2 = np.array([lon1,lon1+2*a,lon1+a])\n",
    "LA2 = np.array([lat1,lat1,lat1+np.sqrt(3)*a])\n",
    "\n",
    "\n",
    "dist = 0.04  #Spacing between WWs\n",
    "a = dist/2\n",
    "lon1=-138 #Westernmost point\n",
    "lat1=2      #Southernmost point\n",
    "\n",
    "LO1 = np.array([lon1,lon1+2*a,lon1+a])\n",
    "LA1 = np.array([lat1,lat1,lat1+np.sqrt(3)*a])\n",
    "\n",
    "\n",
    "dist = 0.04  #Spacing between WWs\n",
    "a = dist/2\n",
    "lon0=-138 #Westernmost point\n",
    "lat0=1.5      #Southernmost point\n",
    "\n",
    "LO0 = np.array([lon0,lon0+2*a,lon0+a])\n",
    "LA0 = np.array([lat0,lat0,lat0+np.sqrt(3)*a])\n",
    "\n",
    "\n",
    "LO = np.concatenate([LO4,LO3,LO2,LO1,LO0])\n",
    "LA = np.concatenate([LA4,LA3,LA2,LA1,LA0])\n",
    "\n"
   ]
  },
  {
   "cell_type": "code",
   "execution_count": 3,
   "id": "cb1e83e1-8995-455f-8bdd-7c78d9c9ab16",
   "metadata": {},
   "outputs": [],
   "source": [
    "pset = ParticleSet.from_list(fieldset=fieldset,   # the fields on which the particles are advected\n",
    "                             pclass=JITParticle,  # the type of particles (JITParticle or ScipyParticle)\n",
    "                             lon=LO, # a vector of release longitudes \n",
    "                             lat=LA)    # a vector of release latitudes"
   ]
  },
  {
   "cell_type": "code",
   "execution_count": 4,
   "id": "ebab2426-7ddb-4ee7-bc38-99d0cc016250",
   "metadata": {},
   "outputs": [
    {
     "data": {
      "text/plain": [
       "2419200"
      ]
     },
     "execution_count": 4,
     "metadata": {},
     "output_type": "execute_result"
    }
   ],
   "source": [
    "112*6*3600"
   ]
  },
  {
   "cell_type": "code",
   "execution_count": 5,
   "id": "982fe91d",
   "metadata": {},
   "outputs": [
    {
     "name": "stdout",
     "output_type": "stream",
     "text": [
      "INFO: Output files are stored in /Users/caiquediasluko/Documents/Caique/MOTIVE/Wirewalker_Forecast/Forward_dist4kmalleast_0-760m.zarr.\n",
      "100%|█████████████████████████| 2419200.0/2419200.0 [00:09<00:00, 255788.98it/s]\n"
     ]
    }
   ],
   "source": [
    "output_file = pset.ParticleFile(name='/Users/caiquediasluko/Documents/Caique/MOTIVE/Wirewalker_Forecast/Forward_dist4kmalleast_0-760m.zarr', outputdt=timedelta(hours=1)) \n",
    "# the file name and the time step of the outputs\n",
    "pset.execute(AdvectionRK4,                 # the kernel (which defines how particles move)# the total length of the run\n",
    "             dt=timedelta(seconds=6*3600),      # the timestep of the kernel\n",
    "             output_file=output_file)\n",
    "\n"
   ]
  },
  {
   "cell_type": "code",
   "execution_count": 6,
   "id": "b4b2f378-efc8-491a-a7ed-7fe4f14da89f",
   "metadata": {},
   "outputs": [
    {
     "data": {
      "text/plain": [
       "P[0](lon=-141.768112, lat=3.167068, depth=0.000000, time=2415600.000000)\n",
       "P[1](lon=-141.767960, lat=3.161172, depth=0.000000, time=2415600.000000)\n",
       "P[2](lon=-141.466614, lat=3.265755, depth=0.000000, time=2415600.000000)\n",
       "P[3](lon=-143.248734, lat=3.057655, depth=0.000000, time=2415600.000000)\n",
       "P[4](lon=-143.247818, lat=3.030551, depth=0.000000, time=2415600.000000)\n",
       "P[5](lon=-143.179688, lat=3.051138, depth=0.000000, time=2415600.000000)\n",
       "P[6](lon=-143.805511, lat=2.573598, depth=0.000000, time=2415600.000000)\n",
       "P[7](lon=-143.766296, lat=2.570673, depth=0.000000, time=2415600.000000)\n",
       "P[8](lon=-143.786118, lat=2.608222, depth=0.000000, time=2415600.000000)\n",
       "P[9](lon=-142.996368, lat=1.937936, depth=0.000000, time=2415600.000000)\n",
       "P[10](lon=-142.979034, lat=1.940325, depth=0.000000, time=2415600.000000)\n",
       "P[11](lon=-143.169464, lat=1.977045, depth=0.000000, time=2415600.000000)\n",
       "P[12](lon=-138.123703, lat=1.616906, depth=0.000000, time=2415600.000000)\n",
       "P[13](lon=-138.116211, lat=1.630680, depth=0.000000, time=2415600.000000)\n",
       "P[14](lon=-138.258331, lat=1.623456, depth=0.000000, time=2415600.000000)"
      ]
     },
     "execution_count": 6,
     "metadata": {},
     "output_type": "execute_result"
    }
   ],
   "source": [
    "pset"
   ]
  },
  {
   "cell_type": "code",
   "execution_count": 7,
   "id": "61d1c01b-81ad-41f0-a8fc-0f4ca36b1b49",
   "metadata": {},
   "outputs": [
    {
     "name": "stdout",
     "output_type": "stream",
     "text": [
      "P[0](lon=-141.768112, lat=3.167068, depth=0.000000, time=2415600.000000)\n",
      "P[1](lon=-141.767960, lat=3.161172, depth=0.000000, time=2415600.000000)\n",
      "P[2](lon=-141.466614, lat=3.265755, depth=0.000000, time=2415600.000000)\n",
      "P[3](lon=-143.248734, lat=3.057655, depth=0.000000, time=2415600.000000)\n",
      "P[4](lon=-143.247818, lat=3.030551, depth=0.000000, time=2415600.000000)\n",
      "P[5](lon=-143.179688, lat=3.051138, depth=0.000000, time=2415600.000000)\n",
      "P[6](lon=-143.805511, lat=2.573598, depth=0.000000, time=2415600.000000)\n",
      "P[7](lon=-143.766296, lat=2.570673, depth=0.000000, time=2415600.000000)\n",
      "P[8](lon=-143.786118, lat=2.608222, depth=0.000000, time=2415600.000000)\n",
      "P[9](lon=-142.996368, lat=1.937936, depth=0.000000, time=2415600.000000)\n",
      "P[10](lon=-142.979034, lat=1.940325, depth=0.000000, time=2415600.000000)\n",
      "P[11](lon=-143.169464, lat=1.977045, depth=0.000000, time=2415600.000000)\n",
      "P[12](lon=-138.123703, lat=1.616906, depth=0.000000, time=2415600.000000)\n",
      "P[13](lon=-138.116211, lat=1.630680, depth=0.000000, time=2415600.000000)\n",
      "P[14](lon=-138.258331, lat=1.623456, depth=0.000000, time=2415600.000000)\n"
     ]
    }
   ],
   "source": [
    "print(pset)"
   ]
  },
  {
   "cell_type": "code",
   "execution_count": 8,
   "id": "51e05699-0aed-4a8e-84af-27ceeb1afa63",
   "metadata": {},
   "outputs": [],
   "source": [
    "import xarray as xr\n",
    "dat=xr.open_zarr('/Users/caiquediasluko/Documents/Caique/MOTIVE/Wirewalker_Forecast/Forward_dist4kmalleast_0-760m.zarr')"
   ]
  },
  {
   "cell_type": "code",
   "execution_count": 9,
   "id": "192f7269-a04b-4c02-a048-755ee9066eeb",
   "metadata": {},
   "outputs": [],
   "source": [
    "lat=np.array(dat.lat)\n",
    "lon=np.array(dat.lon)\n",
    "\n",
    "import scipy.io as scio\n",
    "\n",
    "dic={'lon':lon,'lat':lat}\n",
    "scio.savemat('/Users/caiquediasluko/Documents/Caique/MOTIVE/Wirewalker_Forecast/Forward_dist4kmalleast_0-760m.mat',dic)"
   ]
  },
  {
   "cell_type": "code",
   "execution_count": 10,
   "id": "1eb0dd4a-25c8-4d76-8efc-63dcb589430a",
   "metadata": {},
   "outputs": [
    {
     "data": {
      "text/plain": [
       "(15, 667)"
      ]
     },
     "execution_count": 10,
     "metadata": {},
     "output_type": "execute_result"
    }
   ],
   "source": [
    "lon.shape"
   ]
  },
  {
   "cell_type": "code",
   "execution_count": null,
   "id": "49ebf2ab-19de-4e2d-9005-ed25ce7da767",
   "metadata": {},
   "outputs": [],
   "source": []
  },
  {
   "cell_type": "code",
   "execution_count": null,
   "id": "64344ada-7029-4a35-92cd-434580fef1c1",
   "metadata": {},
   "outputs": [],
   "source": []
  },
  {
   "cell_type": "code",
   "execution_count": 11,
   "id": "0b4c4358-622f-4e65-9a6a-619f985b26da",
   "metadata": {},
   "outputs": [
    {
     "data": {
      "text/plain": [
       "19.0"
      ]
     },
     "execution_count": 11,
     "metadata": {},
     "output_type": "execute_result"
    }
   ],
   "source": [
    "68400./3600"
   ]
  },
  {
   "cell_type": "code",
   "execution_count": 12,
   "id": "f021c302-509b-4765-a821-556f5297765a",
   "metadata": {},
   "outputs": [
    {
     "data": {
      "text/plain": [
       "numpy.timedelta64(2415600000000000,'ns')"
      ]
     },
     "execution_count": 12,
     "metadata": {},
     "output_type": "execute_result"
    }
   ],
   "source": [
    "import pandas as pd\n",
    "dat.time.values[0][-1]"
   ]
  },
  {
   "cell_type": "code",
   "execution_count": 13,
   "id": "b3f5f3a9-3484-4f69-b51d-7fc3baf15c8e",
   "metadata": {},
   "outputs": [
    {
     "data": {
      "text/plain": [
       "6.166666666666667"
      ]
     },
     "execution_count": 13,
     "metadata": {},
     "output_type": "execute_result"
    }
   ],
   "source": [
    "133200./(6*3600)"
   ]
  },
  {
   "cell_type": "code",
   "execution_count": 14,
   "id": "d1893d45-7f59-42fc-87a4-05193e1d0339",
   "metadata": {},
   "outputs": [
    {
     "data": {
      "text/plain": [
       "datetime.timedelta(seconds=21600)"
      ]
     },
     "execution_count": 14,
     "metadata": {},
     "output_type": "execute_result"
    }
   ],
   "source": [
    "timedelta(seconds=6*3600)"
   ]
  },
  {
   "cell_type": "code",
   "execution_count": 15,
   "id": "fc4effd9-e213-49ed-88d6-87e7a4f45131",
   "metadata": {},
   "outputs": [
    {
     "data": {
      "text/plain": [
       "43200"
      ]
     },
     "execution_count": 15,
     "metadata": {},
     "output_type": "execute_result"
    }
   ],
   "source": [
    "21600+21600"
   ]
  },
  {
   "cell_type": "code",
   "execution_count": 16,
   "id": "cb4c2df0-57a9-4e7b-99f2-52ae0992764d",
   "metadata": {},
   "outputs": [
    {
     "data": {
      "text/plain": [
       "<matplotlib.collections.PathCollection at 0x14ce1ec90>"
      ]
     },
     "execution_count": 16,
     "metadata": {},
     "output_type": "execute_result"
    },
    {
     "data": {
      "image/png": "[encoded data removed]",
      "text/plain": [
       "<Figure size 640x480 with 1 Axes>"
      ]
     },
     "metadata": {},
     "output_type": "display_data"
    }
   ],
   "source": [
    "import matplotlib.pyplot as plt\n",
    "plt.scatter(lon,lat)"
   ]
  },
  {
   "cell_type": "code",
   "execution_count": 34,
   "id": "fa1f213e-ef5c-4989-906a-81aef01e9ea4",
   "metadata": {},
   "outputs": [
    {
     "data": {
      "text/plain": [
       "(111,)"
      ]
     },
     "execution_count": 34,
     "metadata": {},
     "output_type": "execute_result"
    }
   ],
   "source": [
    "dat.time.values[0,1::6].shape"
   ]
  },
  {
   "cell_type": "code",
   "execution_count": 23,
   "id": "e4c2aff0-d713-4bef-9379-0aa82aa9deca",
   "metadata": {},
   "outputs": [
    {
     "data": {
      "text/plain": [
       "64800"
      ]
     },
     "execution_count": 23,
     "metadata": {},
     "output_type": "execute_result"
    }
   ],
   "source": [
    "3*6*3600"
   ]
  },
  {
   "cell_type": "code",
   "execution_count": null,
   "id": "e7c56bbe-7eef-4b55-a1ab-8759f31a641d",
   "metadata": {},
   "outputs": [],
   "source": []
  }
 ],
 "metadata": {
  "kernelspec": {
   "display_name": "Python 3 (ipykernel)",
   "language": "python",
   "name": "python3"
  },
  "language_info": {
   "codemirror_mode": {
    "name": "ipython",
    "version": 3
   },
   "file_extension": ".py",
   "mimetype": "text/x-python",
   "name": "python",
   "nbconvert_exporter": "python",
   "pygments_lexer": "ipython3",
   "version": "3.7.16"
  }
 },
 "nbformat": 4,
 "nbformat_minor": 5
}
