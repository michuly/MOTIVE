{
 "cells": [
  {
   "cell_type": "markdown",
   "id": "28330cf0",
   "metadata": {},
   "source": [
    "### Virtual Wirewalkers"
   ]
  },
  {
   "cell_type": "code",
   "execution_count": 2,
   "id": "bb720bad-ec16-4015-b819-93ed044f19b7",
   "metadata": {},
   "outputs": [],
   "source": [
    "import netCDF4 as nc\n",
    "import matplotlib.pyplot as plt\n",
    "import numpy as np\n",
    "import seawater as sw\n",
    "# import cmocean.cm as cm\n",
    "import datetime \n",
    "import pandas as pd\n",
    "\n",
    "import glob\n",
    "# import cartopy\n",
    "import cartopy.crs as ccrs\n",
    "# from cartopy.mpl.gridliner import LONGITUDE_FORMATTER, LATITUDE_FORMATTER\n",
    "# import cartopy.feature as cfeature\n",
    "import matplotlib.ticker as mticker\n",
    "from matplotlib.gridspec import GridSpec\n",
    "from matplotlib import rc  \n",
    "\n",
    "dat = nc.Dataset('/Users/michal/Data/cmems_mod_glo_phy-cur_anfc_0.083deg_PT6H-i_1731177701169.nc')\n",
    "\n",
    "u=dat['uo'][:][:,0]\n",
    "v=dat['vo'][:][:,0]\n",
    "\n",
    "time=dat['time'][:]\n",
    "day1=datetime.datetime(1970,1,1)+datetime.timedelta(seconds=int(time[0]))\n",
    "timev=pd.date_range(day1,periods=time.size,freq='6H')\n",
    "\n",
    "lat=dat['latitude'][:]\n",
    "lon=dat['longitude'][:]\n",
    "\n",
    "dat2 = nc.Dataset('/Users/michal/Data/cmems_mod_glo_phy-thetao_anfc_0.083deg_PT6H-i_1731178765930.nc')\n",
    "temp=dat2['thetao'][:][:,0]\n",
    "\n"
   ]
  },
  {
   "cell_type": "code",
   "execution_count": 3,
   "id": "1fb4777f-e28c-4291-aad7-5f58d5973421",
   "metadata": {},
   "outputs": [],
   "source": [
    "idx=np.where((lat<8)&(lat>-1))[0]\n",
    "lat=lat[idx]\n",
    "u=u[:,idx,:]\n",
    "v=v[:,idx,:]\n",
    "\n",
    "LON,LAT=np.meshgrid(lon,lat)\n",
    "\n",
    "[_,dx]=np.gradient(LON)\n",
    "dx=dx*np.cos(np.pi*LAT/180)*111195\n",
    "\n",
    "[dy,_]=np.gradient(LAT)\n",
    "dy=dy*111195\n",
    "\n",
    "[_,dudy,dudx]=np.gradient(u)\n",
    "dudx=dudx/dx\n",
    "dudy=dudy/dy\n",
    "\n",
    "[_,dvdy,dvdx]=np.gradient(v)\n",
    "dvdx=dvdx/dx\n",
    "dvdy=dvdy/dy\n",
    "\n",
    "zeta=dvdx-dudy\n",
    "\n",
    "div = dudx+dvdy "
   ]
  },
  {
   "cell_type": "code",
   "execution_count": 11,
   "id": "d9587908",
   "metadata": {},
   "outputs": [
    {
     "data": {
      "text/plain": [
       "Timestamp('2024-10-15 00:00:00')"
      ]
     },
     "execution_count": 11,
     "metadata": {},
     "output_type": "execute_result"
    }
   ],
   "source": [
    "timev[14*4]"
   ]
  },
  {
   "cell_type": "code",
   "execution_count": 12,
   "id": "20d25779",
   "metadata": {},
   "outputs": [
    {
     "data": {
      "text/plain": [
       "56"
      ]
     },
     "execution_count": 12,
     "metadata": {},
     "output_type": "execute_result"
    }
   ],
   "source": [
    "14*4"
   ]
  },
  {
   "cell_type": "code",
   "execution_count": 13,
   "id": "571762b7",
   "metadata": {},
   "outputs": [
    {
     "data": {
      "text/plain": [
       "(181, 73, 180)"
      ]
     },
     "execution_count": 13,
     "metadata": {},
     "output_type": "execute_result"
    }
   ],
   "source": [
    "u.shape"
   ]
  },
  {
   "cell_type": "code",
   "execution_count": 4,
   "id": "0c782c20-acfa-4fc9-accf-96142ce719bd",
   "metadata": {},
   "outputs": [],
   "source": [
    "import scipy.io as scio\n",
    "dat = scio.loadmat('/Users/michal/Data/Forward_dist4kmalleast_0-760m.mat')\n",
    "lonp=dat['lon'][:,1::6]\n",
    "latp=dat['lat'][:,1::6]"
   ]
  },
  {
   "cell_type": "code",
   "execution_count": 9,
   "id": "ff49b268",
   "metadata": {},
   "outputs": [
    {
     "ename": "KeyboardInterrupt",
     "evalue": "",
     "output_type": "error",
     "traceback": [
      "\u001B[0;31m---------------------------------------------------------------------------\u001B[0m",
      "\u001B[0;31mKeyboardInterrupt\u001B[0m                         Traceback (most recent call last)",
      "\u001B[0;32m/var/folders/pb/rtn3ghzs3ll_hh_493wg9g400000gn/T/ipykernel_12926/2940043698.py\u001B[0m in \u001B[0;36m<module>\u001B[0;34m\u001B[0m\n\u001B[1;32m     47\u001B[0m     \u001B[0mm\u001B[0m\u001B[0;34m.\u001B[0m\u001B[0mdrawcountries\u001B[0m\u001B[0;34m(\u001B[0m\u001B[0;34m)\u001B[0m\u001B[0;34m\u001B[0m\u001B[0;34m\u001B[0m\u001B[0m\n\u001B[1;32m     48\u001B[0m     \u001B[0mm\u001B[0m\u001B[0;34m.\u001B[0m\u001B[0mdrawstates\u001B[0m\u001B[0;34m(\u001B[0m\u001B[0;34m)\u001B[0m\u001B[0;34m\u001B[0m\u001B[0;34m\u001B[0m\u001B[0m\n\u001B[0;32m---> 49\u001B[0;31m     \u001B[0mm\u001B[0m\u001B[0;34m.\u001B[0m\u001B[0mdrawrivers\u001B[0m\u001B[0;34m(\u001B[0m\u001B[0mcolor\u001B[0m\u001B[0;34m=\u001B[0m\u001B[0;34m'C0'\u001B[0m\u001B[0;34m,\u001B[0m \u001B[0mlinewidth\u001B[0m\u001B[0;34m=\u001B[0m\u001B[0;36m1\u001B[0m\u001B[0;34m,\u001B[0m \u001B[0mzorder\u001B[0m\u001B[0;34m=\u001B[0m\u001B[0;36m8\u001B[0m\u001B[0;34m)\u001B[0m\u001B[0;34m\u001B[0m\u001B[0;34m\u001B[0m\u001B[0m\n\u001B[0m\u001B[1;32m     50\u001B[0m     \u001B[0mm\u001B[0m\u001B[0;34m.\u001B[0m\u001B[0mfillcontinents\u001B[0m\u001B[0;34m(\u001B[0m\u001B[0mcolor\u001B[0m\u001B[0;34m=\u001B[0m\u001B[0;34m'0.9'\u001B[0m\u001B[0;34m)\u001B[0m\u001B[0;34m\u001B[0m\u001B[0;34m\u001B[0m\u001B[0m\n\u001B[1;32m     51\u001B[0m \u001B[0;34m\u001B[0m\u001B[0m\n",
      "\u001B[0;32m~/opt/miniconda3/envs/MOTIVE/lib/python3.7/site-packages/mpl_toolkits/basemap/__init__.py\u001B[0m in \u001B[0;36mdrawrivers\u001B[0;34m(self, linewidth, linestyle, color, antialiased, ax, zorder)\u001B[0m\n\u001B[1;32m   2033\u001B[0m         \u001B[0;31m# get current axes instance (if none specified).\u001B[0m\u001B[0;34m\u001B[0m\u001B[0;34m\u001B[0m\u001B[0;34m\u001B[0m\u001B[0m\n\u001B[1;32m   2034\u001B[0m         \u001B[0max\u001B[0m \u001B[0;34m=\u001B[0m \u001B[0max\u001B[0m \u001B[0;32mor\u001B[0m \u001B[0mself\u001B[0m\u001B[0;34m.\u001B[0m\u001B[0m_check_ax\u001B[0m\u001B[0;34m(\u001B[0m\u001B[0;34m)\u001B[0m\u001B[0;34m\u001B[0m\u001B[0;34m\u001B[0m\u001B[0m\n\u001B[0;32m-> 2035\u001B[0;31m         \u001B[0mrivers\u001B[0m \u001B[0;34m=\u001B[0m \u001B[0mLineCollection\u001B[0m\u001B[0;34m(\u001B[0m\u001B[0mself\u001B[0m\u001B[0;34m.\u001B[0m\u001B[0mriversegs\u001B[0m\u001B[0;34m,\u001B[0m\u001B[0mantialiaseds\u001B[0m\u001B[0;34m=\u001B[0m\u001B[0;34m(\u001B[0m\u001B[0mantialiased\u001B[0m\u001B[0;34m,\u001B[0m\u001B[0;34m)\u001B[0m\u001B[0;34m)\u001B[0m\u001B[0;34m\u001B[0m\u001B[0;34m\u001B[0m\u001B[0m\n\u001B[0m\u001B[1;32m   2036\u001B[0m         \u001B[0mrivers\u001B[0m\u001B[0;34m.\u001B[0m\u001B[0mset_color\u001B[0m\u001B[0;34m(\u001B[0m\u001B[0mcolor\u001B[0m\u001B[0;34m)\u001B[0m\u001B[0;34m\u001B[0m\u001B[0;34m\u001B[0m\u001B[0m\n\u001B[1;32m   2037\u001B[0m         \u001B[0mrivers\u001B[0m\u001B[0;34m.\u001B[0m\u001B[0mset_linestyle\u001B[0m\u001B[0;34m(\u001B[0m\u001B[0mlinestyle\u001B[0m\u001B[0;34m)\u001B[0m\u001B[0;34m\u001B[0m\u001B[0;34m\u001B[0m\u001B[0m\n",
      "\u001B[0;32m~/opt/miniconda3/envs/MOTIVE/lib/python3.7/site-packages/matplotlib/collections.py\u001B[0m in \u001B[0;36m__init__\u001B[0;34m(self, segments, zorder, *args, **kwargs)\u001B[0m\n\u001B[1;32m   1443\u001B[0m             \u001B[0;31m`\u001B[0m\u001B[0;34m~\u001B[0m\u001B[0;34m.\u001B[0m\u001B[0mpath\u001B[0m\u001B[0;34m.\u001B[0m\u001B[0mPath\u001B[0m\u001B[0;34m.\u001B[0m\u001B[0mCLOSEPOLY\u001B[0m\u001B[0;31m`\u001B[0m\u001B[0;34m.\u001B[0m\u001B[0;34m\u001B[0m\u001B[0;34m\u001B[0m\u001B[0m\n\u001B[1;32m   1444\u001B[0m \u001B[0;34m\u001B[0m\u001B[0m\n\u001B[0;32m-> 1445\u001B[0;31m         \u001B[0;34m**\u001B[0m\u001B[0mkwargs\u001B[0m\u001B[0;34m\u001B[0m\u001B[0;34m\u001B[0m\u001B[0m\n\u001B[0m\u001B[1;32m   1446\u001B[0m             \u001B[0mForwarded\u001B[0m \u001B[0mto\u001B[0m\u001B[0;31m \u001B[0m\u001B[0;31m`\u001B[0m\u001B[0;34m.\u001B[0m\u001B[0mCollection\u001B[0m\u001B[0;31m`\u001B[0m\u001B[0;34m.\u001B[0m\u001B[0;34m\u001B[0m\u001B[0;34m\u001B[0m\u001B[0m\n\u001B[1;32m   1447\u001B[0m         \"\"\"\n",
      "\u001B[0;32m~/opt/miniconda3/envs/MOTIVE/lib/python3.7/site-packages/matplotlib/collections.py\u001B[0m in \u001B[0;36mset_segments\u001B[0;34m(self, segments)\u001B[0m\n\u001B[1;32m   1455\u001B[0m                 \u001B[0;34m\"3.4\"\u001B[0m\u001B[0;34m,\u001B[0m \u001B[0mmessage\u001B[0m\u001B[0;34m=\u001B[0m\u001B[0;34m\"Since %(since)s, passing LineCollection \"\u001B[0m\u001B[0;34m\u001B[0m\u001B[0;34m\u001B[0m\u001B[0m\n\u001B[1;32m   1456\u001B[0m                 \u001B[0;34m\"arguments other than the first, 'segments', as positional \"\u001B[0m\u001B[0;34m\u001B[0m\u001B[0;34m\u001B[0m\u001B[0m\n\u001B[0;32m-> 1457\u001B[0;31m                 \u001B[0;34m\"arguments is deprecated, and they will become keyword-only \"\u001B[0m\u001B[0;34m\u001B[0m\u001B[0;34m\u001B[0m\u001B[0m\n\u001B[0m\u001B[1;32m   1458\u001B[0m                 \u001B[0;34m\"arguments %(removal)s.\"\u001B[0m\u001B[0;34m\u001B[0m\u001B[0;34m\u001B[0m\u001B[0m\n\u001B[1;32m   1459\u001B[0m                 )\n",
      "\u001B[0;32m~/opt/miniconda3/envs/MOTIVE/lib/python3.7/site-packages/matplotlib/collections.py\u001B[0m in \u001B[0;36m<listcomp>\u001B[0;34m(.0)\u001B[0m\n\u001B[1;32m   1455\u001B[0m                 \u001B[0;34m\"3.4\"\u001B[0m\u001B[0;34m,\u001B[0m \u001B[0mmessage\u001B[0m\u001B[0;34m=\u001B[0m\u001B[0;34m\"Since %(since)s, passing LineCollection \"\u001B[0m\u001B[0;34m\u001B[0m\u001B[0;34m\u001B[0m\u001B[0m\n\u001B[1;32m   1456\u001B[0m                 \u001B[0;34m\"arguments other than the first, 'segments', as positional \"\u001B[0m\u001B[0;34m\u001B[0m\u001B[0;34m\u001B[0m\u001B[0m\n\u001B[0;32m-> 1457\u001B[0;31m                 \u001B[0;34m\"arguments is deprecated, and they will become keyword-only \"\u001B[0m\u001B[0;34m\u001B[0m\u001B[0;34m\u001B[0m\u001B[0m\n\u001B[0m\u001B[1;32m   1458\u001B[0m                 \u001B[0;34m\"arguments %(removal)s.\"\u001B[0m\u001B[0;34m\u001B[0m\u001B[0;34m\u001B[0m\u001B[0m\n\u001B[1;32m   1459\u001B[0m                 )\n",
      "\u001B[0;32m~/opt/miniconda3/envs/MOTIVE/lib/python3.7/site-packages/matplotlib/path.py\u001B[0m in \u001B[0;36m__init__\u001B[0;34m(self, vertices, codes, _interpolation_steps, closed, readonly)\u001B[0m\n\u001B[1;32m    128\u001B[0m         \u001B[0mvertices\u001B[0m \u001B[0;34m=\u001B[0m \u001B[0m_to_unmasked_float_array\u001B[0m\u001B[0;34m(\u001B[0m\u001B[0mvertices\u001B[0m\u001B[0;34m)\u001B[0m\u001B[0;34m\u001B[0m\u001B[0;34m\u001B[0m\u001B[0m\n\u001B[1;32m    129\u001B[0m         \u001B[0m_api\u001B[0m\u001B[0;34m.\u001B[0m\u001B[0mcheck_shape\u001B[0m\u001B[0;34m(\u001B[0m\u001B[0;34m(\u001B[0m\u001B[0;32mNone\u001B[0m\u001B[0;34m,\u001B[0m \u001B[0;36m2\u001B[0m\u001B[0;34m)\u001B[0m\u001B[0;34m,\u001B[0m \u001B[0mvertices\u001B[0m\u001B[0;34m=\u001B[0m\u001B[0mvertices\u001B[0m\u001B[0;34m)\u001B[0m\u001B[0;34m\u001B[0m\u001B[0;34m\u001B[0m\u001B[0m\n\u001B[0;32m--> 130\u001B[0;31m \u001B[0;34m\u001B[0m\u001B[0m\n\u001B[0m\u001B[1;32m    131\u001B[0m         \u001B[0;32mif\u001B[0m \u001B[0mcodes\u001B[0m \u001B[0;32mis\u001B[0m \u001B[0;32mnot\u001B[0m \u001B[0;32mNone\u001B[0m\u001B[0;34m:\u001B[0m\u001B[0;34m\u001B[0m\u001B[0;34m\u001B[0m\u001B[0m\n\u001B[1;32m    132\u001B[0m             \u001B[0mcodes\u001B[0m \u001B[0;34m=\u001B[0m \u001B[0mnp\u001B[0m\u001B[0;34m.\u001B[0m\u001B[0masarray\u001B[0m\u001B[0;34m(\u001B[0m\u001B[0mcodes\u001B[0m\u001B[0;34m,\u001B[0m \u001B[0mself\u001B[0m\u001B[0;34m.\u001B[0m\u001B[0mcode_type\u001B[0m\u001B[0;34m)\u001B[0m\u001B[0;34m\u001B[0m\u001B[0;34m\u001B[0m\u001B[0m\n",
      "\u001B[0;32m~/opt/miniconda3/envs/MOTIVE/lib/python3.7/site-packages/matplotlib/_api/__init__.py\u001B[0m in \u001B[0;36mcheck_shape\u001B[0;34m(_shape, **kwargs)\u001B[0m\n\u001B[1;32m    152\u001B[0m \u001B[0;34m\u001B[0m\u001B[0m\n\u001B[1;32m    153\u001B[0m         if len(target_shape) != len(data_shape) or any(\n\u001B[0;32m--> 154\u001B[0;31m                 \u001B[0mt\u001B[0m \u001B[0;32mnot\u001B[0m \u001B[0;32min\u001B[0m \u001B[0;34m[\u001B[0m\u001B[0ms\u001B[0m\u001B[0;34m,\u001B[0m \u001B[0;32mNone\u001B[0m\u001B[0;34m]\u001B[0m\u001B[0;34m\u001B[0m\u001B[0;34m\u001B[0m\u001B[0m\n\u001B[0m\u001B[1;32m    155\u001B[0m                 \u001B[0;32mfor\u001B[0m \u001B[0mt\u001B[0m\u001B[0;34m,\u001B[0m \u001B[0ms\u001B[0m \u001B[0;32min\u001B[0m \u001B[0mzip\u001B[0m\u001B[0;34m(\u001B[0m\u001B[0mtarget_shape\u001B[0m\u001B[0;34m,\u001B[0m \u001B[0mdata_shape\u001B[0m\u001B[0;34m)\u001B[0m\u001B[0;34m\u001B[0m\u001B[0;34m\u001B[0m\u001B[0m\n\u001B[1;32m    156\u001B[0m         ):\n",
      "\u001B[0;31mKeyboardInterrupt\u001B[0m: "
     ]
    },
    {
     "data": {
      "image/png": "[encoded data removed]",
      "text/plain": [
       "<Figure size 800x1400 with 3 Axes>"
      ]
     },
     "metadata": {},
     "output_type": "display_data"
    }
   ],
   "source": [
    "from mpl_toolkits.basemap import Basemap\n",
    "import matplotlib.pyplot as plt\n",
    "from matplotlib.gridspec import GridSpec\n",
    "import numpy as np\n",
    "from matplotlib import rc\n",
    "import matplotlib.cm as cm\n",
    "import cmocean\n",
    "\n",
    "for i in range(56, u.shape[0], 1):\n",
    "    fig = plt.figure(figsize=(8, 14))\n",
    "    rc('font', size=10)\n",
    "    rc('font', weight='normal')\n",
    "    rc('xtick', labelsize=10)\n",
    "    rc('ytick', labelsize=10)\n",
    "    grd = GridSpec(150, 150)\n",
    "\n",
    "    # First subplot\n",
    "    ax = fig.add_subplot(grd[0:30, :])\n",
    "    plt.title(str(timev[i]), weight='normal', fontsize=14)\n",
    "\n",
    "    # Initialize Basemap with PlateCarree equivalent projection\n",
    "    m = Basemap(projection='cyl', llcrnrlon=-145, urcrnrlon=-135, llcrnrlat=-90, urcrnrlat=90, resolution='l', ax=ax)\n",
    "    m.drawcoastlines()\n",
    "    m.drawcountries()\n",
    "    m.drawstates()\n",
    "    m.drawrivers(color='C0', linewidth=1, zorder=8)\n",
    "    m.fillcontinents(color='0.9')\n",
    "\n",
    "    # Add grid lines\n",
    "    parallels = np.arange(-90., 91., 10.)\n",
    "    meridians = np.arange(-180., 181., 10.)\n",
    "    m.drawparallels(parallels, labels=[1, 0, 0, 0], linewidth=0.8, color='k', alpha=1)\n",
    "    m.drawmeridians(meridians, labels=[0, 0, 0, 1], linewidth=0.8, color='k', alpha=1)\n",
    "\n",
    "    # Contour plot\n",
    "    lon_mesh, lat_mesh = np.meshgrid(lon, lat)\n",
    "    cf = m.contourf(lon_mesh, lat_mesh, temp[i], np.arange(23, 29.025, 0.025), cmap='RdYlBu_r', extend='both')\n",
    "    plt.scatter([-140, -137.83, -140], [0.5, 1.75, 3], color='red', edgecolor='k', zorder=10)\n",
    "    cbar = m.colorbar(cf, location='right', pad=\"5%\")\n",
    "    cbar.set_label(r'T [$^{\\circ}$C]', weight='normal', fontsize=12)\n",
    "    plt.scatter(lonp[:, i-56], latp[:, i-56], color='yellow', edgecolor='k', s=10)\n",
    "\n",
    "    # Second subplot\n",
    "    ax = fig.add_subplot(grd[35:65, :])\n",
    "    m = Basemap(projection='cyl', llcrnrlon=-145, urcrnrlon=-135, llcrnrlat=-90, urcrnrlat=90, resolution='l', ax=ax)\n",
    "    m.drawcoastlines()\n",
    "    m.drawcountries()\n",
    "    m.drawstates()\n",
    "    m.drawrivers(color='C0', linewidth=1, zorder=8)\n",
    "    m.fillcontinents(color='0.9')\n",
    "\n",
    "    # Grid lines\n",
    "    m.drawparallels(parallels, labels=[1, 0, 0, 0], linewidth=0.8, color='k', alpha=1)\n",
    "    m.drawmeridians(meridians, labels=[0, 0, 0, 1], linewidth=0.8, color='k', alpha=1)\n",
    "\n",
    "    # Contour plot for zeta\n",
    "#     lon_mesh, lat_mesh = np.meshgrid(LON, LAT)\n",
    "#     cf = m.contourf(lon_mesh, lat_mesh, zeta[i]/sw.f(3.5), np.arange(-3, 3.25, 0.25), cmap=cmocean.cm.balance, extend='both')\n",
    "#     plt.scatter([-140, -137.83, -140], [0.5, 1.75, 3], color='red', edgecolor='k', zorder=10)\n",
    "#     cbar = m.colorbar(cf, location='right', pad=\"5%\")\n",
    "#     cbar.set_label('$\\\\zeta$/$f$', weight='normal', fontsize=12)\n",
    "#     plt.scatter(lonp[:, i-56], latp[:, i-56], color='yellow', edgecolor='k', s=10)\n",
    "\n",
    "    # Save the figure\n",
    "    plt.savefig(f'/Users/michal/Data/{timev[i]}.png', bbox_inches='tight', dpi=400)\n",
    "    plt.close()\n"
   ]
  },
  {
   "cell_type": "code",
   "execution_count": 5,
   "id": "5adb84df-0268-4c97-b54d-f293462be201",
   "metadata": {},
   "outputs": [
    {
     "ename": "NameError",
     "evalue": "name 'ccrs' is not defined",
     "output_type": "error",
     "traceback": [
      "\u001B[0;31m---------------------------------------------------------------------------\u001B[0m",
      "\u001B[0;31mNameError\u001B[0m                                 Traceback (most recent call last)",
      "\u001B[0;32m/var/folders/pb/rtn3ghzs3ll_hh_493wg9g400000gn/T/ipykernel_12926/337507267.py\u001B[0m in \u001B[0;36m<module>\u001B[0;34m\u001B[0m\n\u001B[1;32m      7\u001B[0m     \u001B[0mgrd\u001B[0m \u001B[0;34m=\u001B[0m \u001B[0mGridSpec\u001B[0m\u001B[0;34m(\u001B[0m\u001B[0;36m150\u001B[0m\u001B[0;34m,\u001B[0m\u001B[0;36m150\u001B[0m\u001B[0;34m)\u001B[0m\u001B[0;34m\u001B[0m\u001B[0;34m\u001B[0m\u001B[0m\n\u001B[1;32m      8\u001B[0m \u001B[0;34m\u001B[0m\u001B[0m\n\u001B[0;32m----> 9\u001B[0;31m     \u001B[0max\u001B[0m \u001B[0;34m=\u001B[0m \u001B[0mfig\u001B[0m\u001B[0;34m.\u001B[0m\u001B[0madd_subplot\u001B[0m\u001B[0;34m(\u001B[0m\u001B[0mgrd\u001B[0m\u001B[0;34m[\u001B[0m\u001B[0;36m0\u001B[0m\u001B[0;34m:\u001B[0m\u001B[0;36m30\u001B[0m\u001B[0;34m,\u001B[0m\u001B[0;34m:\u001B[0m\u001B[0;34m]\u001B[0m\u001B[0;34m,\u001B[0m\u001B[0mprojection\u001B[0m\u001B[0;34m=\u001B[0m\u001B[0mccrs\u001B[0m\u001B[0;34m.\u001B[0m\u001B[0mPlateCarree\u001B[0m\u001B[0;34m(\u001B[0m\u001B[0;34m)\u001B[0m\u001B[0;34m)\u001B[0m\u001B[0;34m\u001B[0m\u001B[0;34m\u001B[0m\u001B[0m\n\u001B[0m\u001B[1;32m     10\u001B[0m     \u001B[0mplt\u001B[0m\u001B[0;34m.\u001B[0m\u001B[0mtitle\u001B[0m\u001B[0;34m(\u001B[0m\u001B[0mstr\u001B[0m\u001B[0;34m(\u001B[0m\u001B[0mtimev\u001B[0m\u001B[0;34m[\u001B[0m\u001B[0mi\u001B[0m\u001B[0;34m]\u001B[0m\u001B[0;34m)\u001B[0m\u001B[0;34m,\u001B[0m\u001B[0mweight\u001B[0m\u001B[0;34m=\u001B[0m\u001B[0;34m'normal'\u001B[0m\u001B[0;34m,\u001B[0m\u001B[0mfontsize\u001B[0m\u001B[0;34m=\u001B[0m\u001B[0;36m14\u001B[0m\u001B[0;34m)\u001B[0m\u001B[0;34m\u001B[0m\u001B[0;34m\u001B[0m\u001B[0m\n\u001B[1;32m     11\u001B[0m     \u001B[0max\u001B[0m\u001B[0;34m.\u001B[0m\u001B[0mcoastlines\u001B[0m\u001B[0;34m(\u001B[0m\u001B[0;34m)\u001B[0m\u001B[0;34m\u001B[0m\u001B[0;34m\u001B[0m\u001B[0m\n",
      "\u001B[0;31mNameError\u001B[0m: name 'ccrs' is not defined"
     ]
    },
    {
     "data": {
      "text/plain": [
       "<Figure size 800x1400 with 0 Axes>"
      ]
     },
     "metadata": {},
     "output_type": "display_data"
    }
   ],
   "source": [
    "import cartopy\n",
    "import cartopy.crs as ccrs\n",
    "from cartopy.mpl.gridliner import LONGITUDE_FORMATTER, LATITUDE_FORMATTER\n",
    "import cartopy.feature as cfeature\n",
    "\n",
    "for i in range(56,u.shape[0],1):\n",
    "    fig=plt.figure(figsize=(8,14))\n",
    "    rc('font',size=10)    \n",
    "    rc('font',weight='normal') \n",
    "    rc('xtick',labelsize=10)  \n",
    "    rc('ytick',labelsize=10)\n",
    "    grd = GridSpec(150,150)\n",
    "\n",
    "    ax = fig.add_subplot(grd[0:30,:],projection=ccrs.PlateCarree())\n",
    "    plt.title(str(timev[i]),weight='normal',fontsize=14)\n",
    "    ax.coastlines()\n",
    "    ax.add_feature(cfeature.LAND, facecolor='0.9') \n",
    "    ax.add_feature(cfeature.COASTLINE, zorder=11) \n",
    "    ax.add_feature(cfeature.STATES,zorder=12,linewidth=0.2)\n",
    "    ax.add_feature(cfeature.RIVERS, edgecolor='C0',linewidth=1,zorder=8)\n",
    "    gl = ax.gridlines(crs=ccrs.PlateCarree(),draw_labels=True,linewidth=0.8,color='k',alpha=1, linestyle='dotted',zorder=13)\n",
    "    gl.top_labels = False\n",
    "    gl.right_labels = False\n",
    "    gl.xformatter = LONGITUDE_FORMATTER\n",
    "    gl.yformatter = LATITUDE_FORMATTER\n",
    "    gl.xlabel_style = {'size': 10, 'weight': 'normal'}\n",
    "    gl.ylabel_style = {'size': 10, 'weight': 'normal'}\n",
    "    # gl.xlocator = mticker.FixedLocator([-43,-42,-41,-40,-39,-38])\n",
    "    # gl.ylocator = mticker.FixedLocator([-25,-24,-23,-22,-21])\n",
    "    cf=plt.contourf(lon,lat,temp[i],np.arange(23,29.025,0.025),cmap='RdYlBu_r',extend='both')\n",
    "    plt.scatter([-140,-137.83,-140],[0.5,1.75,3],color='red',edgecolor='k')\n",
    "    cbar=plt.colorbar(cf)\n",
    "    cbar.set_label(r'T [$^{\\circ}$C]',weight='normal',fontsize=12)\n",
    "    plt.grid()\n",
    "    plt.xlim(-145,-135)\n",
    "    plt.scatter(lonp[:,i-56],latp[:,i-56],color='yellow',edgecolor='k',s=10)\n",
    "\n",
    "    ax = fig.add_subplot(grd[35:65,:],projection=ccrs.PlateCarree())\n",
    "    ax.coastlines()\n",
    "    ax.add_feature(cfeature.LAND, facecolor='0.9') \n",
    "    ax.add_feature(cfeature.COASTLINE, zorder=11) \n",
    "    ax.add_feature(cfeature.STATES,zorder=12,linewidth=0.2)\n",
    "    ax.add_feature(cfeature.RIVERS, edgecolor='C0',linewidth=1,zorder=8)\n",
    "    gl = ax.gridlines(crs=ccrs.PlateCarree(),draw_labels=True,linewidth=0.8,color='k',alpha=1, linestyle='dotted',zorder=13)\n",
    "    gl.top_labels = False\n",
    "    gl.right_labels = False\n",
    "    gl.xformatter = LONGITUDE_FORMATTER\n",
    "    gl.yformatter = LATITUDE_FORMATTER\n",
    "    gl.xlabel_style = {'size': 10, 'weight': 'normal'}\n",
    "    gl.ylabel_style = {'size': 10, 'weight': 'normal'}\n",
    "    # gl.xlocator = mticker.FixedLocator([-43,-42,-41,-40,-39,-38])\n",
    "    # gl.ylocator = mticker.FixedLocator([-25,-24,-23,-22,-21])\n",
    "    cf=plt.contourf(LON,LAT,zeta[i]/sw.f(3.5),np.arange(-3,3.25,0.25),cmap=cm.balance,extend='both')\n",
    "    plt.scatter([-140,-137.83,-140],[0.5,1.75,3],color='red',edgecolor='k')\n",
    "    cbar=plt.colorbar(cf)\n",
    "    cbar.set_label('$\\zeta$/$f$',weight='normal',fontsize=12)\n",
    "    plt.grid()\n",
    "    plt.xlim(-145,-135)\n",
    "    plt.scatter(lonp[:,i-56],latp[:,i-56],color='yellow',edgecolor='k',s=10)\n",
    "\n",
    "    plt.savefig('/Users/michal/Data/'+str(timev[i])+'.png',bbox_inches='tight',dpi=400)\n",
    "    plt.close()\n",
    "    "
   ]
  },
  {
   "cell_type": "code",
   "execution_count": 22,
   "id": "70020b0e",
   "metadata": {},
   "outputs": [],
   "source": [
    "import cv2\n",
    "import os\n",
    "\n",
    "def convert_images_to_video(input_folder, output_file, fps):\n",
    "    # Get the list of image files in the input folder\n",
    "    image_files = sorted([f for f in os.listdir(input_folder) if f.endswith('.jpg') or f.endswith('.png')])\n",
    "\n",
    "    # Read the first image to get its dimensions\n",
    "    first_image = cv2.imread(os.path.join(input_folder, image_files[0]))\n",
    "    height, width, _ = first_image.shape\n",
    "\n",
    "    # Create a VideoWriter object to save the video\n",
    "    fourcc = cv2.VideoWriter_fourcc(*'mp4v')  # Specify the codec for the output video file\n",
    "    video = cv2.VideoWriter(output_file, fourcc, fps, (width, height))\n",
    "\n",
    "    # Iterate over each image and write it to the video\n",
    "    for image_file in image_files:\n",
    "        image_path = os.path.join(input_folder, image_file)\n",
    "        frame = cv2.imread(image_path)\n",
    "        video.write(frame)\n",
    "\n",
    "    # Release the video writer and close the video file\n",
    "    video.release()\n",
    "    cv2.destroyAllWindows()"
   ]
  },
  {
   "cell_type": "code",
   "execution_count": 24,
   "id": "a6b309db",
   "metadata": {},
   "outputs": [],
   "source": [
    "# Provide the path to the input image folder, output video file, and desired FPS\n",
    "input_folder = r'/Users/caiquediasluko/Documents/Caique/MOTIVE/Wirewalker_Forecast/Forecast1/'\n",
    "output_file = r'/Users/caiquediasluko/Documents/Caique/MOTIVE/Wirewalker_Forecast/Forecast1.mp4'\n",
    "fps = 3  # Frames per second\n",
    "\n",
    "# Call the function to convert the images to video\n",
    "convert_images_to_video(input_folder, output_file, fps)"
   ]
  },
  {
   "cell_type": "code",
   "execution_count": null,
   "id": "f57565b5",
   "metadata": {},
   "outputs": [],
   "source": []
  },
  {
   "cell_type": "markdown",
   "id": "77d15691",
   "metadata": {},
   "source": [
    "Nov 1 depart\n",
    "6.2 days of transit\n",
    "Nov 7 start WW deployment\n",
    "Nov 27 start WW reovery\n",
    "Nov 29 night start transit back\n",
    "5 days of transit\n",
    "Dec 3 arrive in Honolulu\n"
   ]
  },
  {
   "cell_type": "code",
   "execution_count": null,
   "id": "8963eec0",
   "metadata": {},
   "outputs": [],
   "source": []
  },
  {
   "cell_type": "code",
   "execution_count": null,
   "id": "44b23668",
   "metadata": {},
   "outputs": [],
   "source": []
  },
  {
   "cell_type": "code",
   "execution_count": null,
   "id": "c78b0a4e",
   "metadata": {},
   "outputs": [],
   "source": []
  }
 ],
 "metadata": {
  "kernelspec": {
   "display_name": "Python 3 (ipykernel)",
   "language": "python",
   "name": "python3"
  },
  "language_info": {
   "codemirror_mode": {
    "name": "ipython",
    "version": 3
   },
   "file_extension": ".py",
   "mimetype": "text/x-python",
   "name": "python",
   "nbconvert_exporter": "python",
   "pygments_lexer": "ipython3",
   "version": "3.7.12"
  }
 },
 "nbformat": 4,
 "nbformat_minor": 5
}
